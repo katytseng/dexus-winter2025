{
 "cells": [
  {
   "cell_type": "code",
   "execution_count": 2,
   "id": "2571bda6-9fa5-4aee-bd9a-74d8e92e4b7d",
   "metadata": {},
   "outputs": [],
   "source": [
    "import requests\n",
    "import os \n",
    "import time\n",
    "import pandas as pd\n",
    "from bs4 import BeautifulSoup\n",
    "from selenium import webdriver\n",
    "from selenium.webdriver.common.by import By\n",
    "from selenium.webdriver.common.action_chains import ActionChains"
   ]
  },
  {
   "cell_type": "code",
   "execution_count": 4,
   "id": "6b4e7309-c9f4-4684-9371-71acbffc8db4",
   "metadata": {},
   "outputs": [],
   "source": [
    "url = \"https://ucsbgauchos.com/sports/\"\n",
    "data = requests.get(url)\n",
    "html = data.text\n",
    "soup = BeautifulSoup(html, 'html.parser')\n",
    "session = requests.Session()"
   ]
  },
  {
   "cell_type": "code",
   "execution_count": 26,
   "id": "c472e4e7-8cf1-4fff-b777-4417319a5db4",
   "metadata": {},
   "outputs": [
    {
     "name": "stdout",
     "output_type": "stream",
     "text": [
      "https://ucsbgauchos.com/sports/baseball/schedule/2022\n",
      "https://ucsbgauchos.com/sports/baseball/schedule/2023\n",
      "https://ucsbgauchos.com/sports/baseball/schedule/2024\n",
      "https://ucsbgauchos.com/sports/mens-basketball/schedule/2022\n",
      "https://ucsbgauchos.com/sports/mens-basketball/schedule/2023\n",
      "https://ucsbgauchos.com/sports/mens-basketball/schedule/2024\n",
      "https://ucsbgauchos.com/sports/mens-soccer/schedule/2022\n",
      "https://ucsbgauchos.com/sports/mens-soccer/schedule/2023\n",
      "https://ucsbgauchos.com/sports/mens-soccer/schedule/2024\n",
      "https://ucsbgauchos.com/sports/mens-volleyball/schedule/2022\n",
      "https://ucsbgauchos.com/sports/mens-volleyball/schedule/2023\n",
      "https://ucsbgauchos.com/sports/mens-volleyball/schedule/2024\n",
      "https://ucsbgauchos.com/sports/mens-water-polo/schedule/2022\n",
      "https://ucsbgauchos.com/sports/mens-water-polo/schedule/2023\n",
      "https://ucsbgauchos.com/sports/mens-water-polo/schedule/2024\n",
      "https://ucsbgauchos.com/sports/womens-basketball/schedule/2022\n",
      "https://ucsbgauchos.com/sports/womens-basketball/schedule/2023\n",
      "https://ucsbgauchos.com/sports/womens-basketball/schedule/2024\n",
      "https://ucsbgauchos.com/sports/womens-soccer/schedule/2022\n",
      "https://ucsbgauchos.com/sports/womens-soccer/schedule/2023\n",
      "https://ucsbgauchos.com/sports/womens-soccer/schedule/2024\n",
      "https://ucsbgauchos.com/sports/softball/schedule/2022\n",
      "https://ucsbgauchos.com/sports/softball/schedule/2023\n",
      "https://ucsbgauchos.com/sports/softball/schedule/2024\n",
      "https://ucsbgauchos.com/sports/womens-volleyball/schedule/2022\n",
      "https://ucsbgauchos.com/sports/womens-volleyball/schedule/2023\n",
      "https://ucsbgauchos.com/sports/womens-volleyball/schedule/2024\n",
      "https://ucsbgauchos.com/sports/womens-water-polo/schedule/2022\n",
      "https://ucsbgauchos.com/sports/womens-water-polo/schedule/2023\n",
      "https://ucsbgauchos.com/sports/womens-water-polo/schedule/2024\n"
     ]
    }
   ],
   "source": [
    "sportsList = ['baseball', 'mens-basketball', 'mens-soccer', 'mens-volleyball', 'mens-water-polo', \n",
    "              'womens-soccer', 'softball', 'womens-volleyball', 'womens-water-polo']\n",
    "yearsList = [2022, 2023, 2024]\n",
    "base_url = \"https://ucsbgauchos.com/sports/\"\n",
    "data = pd.DataFrame(columns=['Sport','Year','Game Data'])\n",
    "\n",
    "for sport in sportsList:\n",
    "    for year in yearsList:\n",
    "        url = base_url + sport + \"/schedule/\" + str(year)\n",
    "        print(url)\n",
    "        rowData = [sport, year]\n",
    "        \n",
    "        try:\n",
    "            # Initialize WebDriver (Make sure you have ChromeDriver installed)\n",
    "            driver = webdriver.Chrome()\n",
    "            driver.get(url)\n",
    "            time.sleep(2)\n",
    "            \n",
    "            # Find all buttons with the class \"sidearm-schedule-game-toggle\"\n",
    "            buttons = driver.find_elements(By.CLASS_NAME, \"sidearm-schedule-game-toggle\")\n",
    "            \n",
    "            # Click each button one by one and extract the content\n",
    "            for btn in buttons:\n",
    "                btn.click()\n",
    "                time.sleep(1)  # Adjust if needed to ensure content loads\n",
    "            \n",
    "            # Get the updated page source after all clicks\n",
    "            html = driver.page_source\n",
    "            soup = BeautifulSoup(html, \"html.parser\")\n",
    "            \n",
    "            # Find all dropdown contents\n",
    "            dropdowns = soup.find_all(\"div\", class_=\"sidearm-schedule-game-extra\")\n",
    "\n",
    "            gameData = []\n",
    "            # Print extracted content for each game\n",
    "            for i, dropdown in enumerate(dropdowns, start=1):\n",
    "                gameData.append(dropdown.text.strip())\n",
    "            \n",
    "            # Close the browser\n",
    "            driver.quit()\n",
    "            rowData.append(gameData)\n",
    "            data.at[r, 'Latitude'] = float(coord[0])\n",
    "            data.loc[len(data)] = rowData\n",
    "\n",
    "        except requests.exceptions.RequestException as e:\n",
    "            print(f\"Error fetching data for {url}: {e}\")"
   ]
  },
  {
   "cell_type": "code",
   "execution_count": 9,
   "id": "bec1dfc0-5a35-4fae-a138-4e88845beb7f",
   "metadata": {},
   "outputs": [
    {
     "name": "stdout",
     "output_type": "stream",
     "text": [
      "https://ucsbgauchos.com/sports/womens-basketball/schedule/2022-23\n"
     ]
    },
    {
     "ename": "ValueError",
     "evalue": "setting an array element with a sequence. The requested array has an inhomogeneous shape after 1 dimensions. The detected shape was (3,) + inhomogeneous part.",
     "output_type": "error",
     "traceback": [
      "\u001b[0;31m---------------------------------------------------------------------------\u001b[0m",
      "\u001b[0;31mAttributeError\u001b[0m                            Traceback (most recent call last)",
      "File \u001b[0;32m/Library/Frameworks/Python.framework/Versions/3.10/lib/python3.10/site-packages/numpy/core/fromnumeric.py:3209\u001b[0m, in \u001b[0;36mndim\u001b[0;34m(a)\u001b[0m\n\u001b[1;32m   3208\u001b[0m \u001b[38;5;28;01mtry\u001b[39;00m:\n\u001b[0;32m-> 3209\u001b[0m     \u001b[38;5;28;01mreturn\u001b[39;00m \u001b[43ma\u001b[49m\u001b[38;5;241;43m.\u001b[39;49m\u001b[43mndim\u001b[49m\n\u001b[1;32m   3210\u001b[0m \u001b[38;5;28;01mexcept\u001b[39;00m \u001b[38;5;167;01mAttributeError\u001b[39;00m:\n",
      "\u001b[0;31mAttributeError\u001b[0m: 'list' object has no attribute 'ndim'",
      "\nDuring handling of the above exception, another exception occurred:\n",
      "\u001b[0;31mValueError\u001b[0m                                Traceback (most recent call last)",
      "Cell \u001b[0;32mIn[9], line 43\u001b[0m\n\u001b[1;32m     41\u001b[0m     driver\u001b[38;5;241m.\u001b[39mquit()\n\u001b[1;32m     42\u001b[0m     rowData\u001b[38;5;241m.\u001b[39mappend(gameData)\n\u001b[0;32m---> 43\u001b[0m     \u001b[43mdata\u001b[49m\u001b[38;5;241;43m.\u001b[39;49m\u001b[43mloc\u001b[49m\u001b[43m[\u001b[49m\u001b[38;5;28;43mlen\u001b[39;49m\u001b[43m(\u001b[49m\u001b[43mdata\u001b[49m\u001b[43m)\u001b[49m\u001b[43m]\u001b[49m \u001b[38;5;241m=\u001b[39m rowData\n\u001b[1;32m     45\u001b[0m \u001b[38;5;28;01mexcept\u001b[39;00m requests\u001b[38;5;241m.\u001b[39mexceptions\u001b[38;5;241m.\u001b[39mRequestException \u001b[38;5;28;01mas\u001b[39;00m e:\n\u001b[1;32m     46\u001b[0m     \u001b[38;5;28mprint\u001b[39m(\u001b[38;5;124mf\u001b[39m\u001b[38;5;124m\"\u001b[39m\u001b[38;5;124mError fetching data for \u001b[39m\u001b[38;5;132;01m{\u001b[39;00murl\u001b[38;5;132;01m}\u001b[39;00m\u001b[38;5;124m: \u001b[39m\u001b[38;5;132;01m{\u001b[39;00me\u001b[38;5;132;01m}\u001b[39;00m\u001b[38;5;124m\"\u001b[39m)\n",
      "File \u001b[0;32m/Library/Frameworks/Python.framework/Versions/3.10/lib/python3.10/site-packages/pandas/core/indexing.py:912\u001b[0m, in \u001b[0;36m_LocationIndexer.__setitem__\u001b[0;34m(self, key, value)\u001b[0m\n\u001b[1;32m    909\u001b[0m \u001b[38;5;28mself\u001b[39m\u001b[38;5;241m.\u001b[39m_has_valid_setitem_indexer(key)\n\u001b[1;32m    911\u001b[0m iloc \u001b[38;5;241m=\u001b[39m \u001b[38;5;28mself\u001b[39m \u001b[38;5;28;01mif\u001b[39;00m \u001b[38;5;28mself\u001b[39m\u001b[38;5;241m.\u001b[39mname \u001b[38;5;241m==\u001b[39m \u001b[38;5;124m\"\u001b[39m\u001b[38;5;124miloc\u001b[39m\u001b[38;5;124m\"\u001b[39m \u001b[38;5;28;01melse\u001b[39;00m \u001b[38;5;28mself\u001b[39m\u001b[38;5;241m.\u001b[39mobj\u001b[38;5;241m.\u001b[39miloc\n\u001b[0;32m--> 912\u001b[0m \u001b[43miloc\u001b[49m\u001b[38;5;241;43m.\u001b[39;49m\u001b[43m_setitem_with_indexer\u001b[49m\u001b[43m(\u001b[49m\u001b[43mindexer\u001b[49m\u001b[43m,\u001b[49m\u001b[43m \u001b[49m\u001b[43mvalue\u001b[49m\u001b[43m,\u001b[49m\u001b[43m \u001b[49m\u001b[38;5;28;43mself\u001b[39;49m\u001b[38;5;241;43m.\u001b[39;49m\u001b[43mname\u001b[49m\u001b[43m)\u001b[49m\n",
      "File \u001b[0;32m/Library/Frameworks/Python.framework/Versions/3.10/lib/python3.10/site-packages/pandas/core/indexing.py:1946\u001b[0m, in \u001b[0;36m_iLocIndexer._setitem_with_indexer\u001b[0;34m(self, indexer, value, name)\u001b[0m\n\u001b[1;32m   1943\u001b[0m \u001b[38;5;66;03m# align and set the values\u001b[39;00m\n\u001b[1;32m   1944\u001b[0m \u001b[38;5;28;01mif\u001b[39;00m take_split_path:\n\u001b[1;32m   1945\u001b[0m     \u001b[38;5;66;03m# We have to operate column-wise\u001b[39;00m\n\u001b[0;32m-> 1946\u001b[0m     \u001b[38;5;28;43mself\u001b[39;49m\u001b[38;5;241;43m.\u001b[39;49m\u001b[43m_setitem_with_indexer_split_path\u001b[49m\u001b[43m(\u001b[49m\u001b[43mindexer\u001b[49m\u001b[43m,\u001b[49m\u001b[43m \u001b[49m\u001b[43mvalue\u001b[49m\u001b[43m,\u001b[49m\u001b[43m \u001b[49m\u001b[43mname\u001b[49m\u001b[43m)\u001b[49m\n\u001b[1;32m   1947\u001b[0m \u001b[38;5;28;01melse\u001b[39;00m:\n\u001b[1;32m   1948\u001b[0m     \u001b[38;5;28mself\u001b[39m\u001b[38;5;241m.\u001b[39m_setitem_single_block(indexer, value, name)\n",
      "File \u001b[0;32m/Library/Frameworks/Python.framework/Versions/3.10/lib/python3.10/site-packages/pandas/core/indexing.py:1983\u001b[0m, in \u001b[0;36m_iLocIndexer._setitem_with_indexer_split_path\u001b[0;34m(self, indexer, value, name)\u001b[0m\n\u001b[1;32m   1980\u001b[0m \u001b[38;5;28;01mif\u001b[39;00m \u001b[38;5;28misinstance\u001b[39m(value, ABCDataFrame):\n\u001b[1;32m   1981\u001b[0m     \u001b[38;5;28mself\u001b[39m\u001b[38;5;241m.\u001b[39m_setitem_with_indexer_frame_value(indexer, value, name)\n\u001b[0;32m-> 1983\u001b[0m \u001b[38;5;28;01melif\u001b[39;00m \u001b[43mnp\u001b[49m\u001b[38;5;241;43m.\u001b[39;49m\u001b[43mndim\u001b[49m\u001b[43m(\u001b[49m\u001b[43mvalue\u001b[49m\u001b[43m)\u001b[49m \u001b[38;5;241m==\u001b[39m \u001b[38;5;241m2\u001b[39m:\n\u001b[1;32m   1984\u001b[0m     \u001b[38;5;66;03m# TODO: avoid np.ndim call in case it isn't an ndarray, since\u001b[39;00m\n\u001b[1;32m   1985\u001b[0m     \u001b[38;5;66;03m#  that will construct an ndarray, which will be wasteful\u001b[39;00m\n\u001b[1;32m   1986\u001b[0m     \u001b[38;5;28mself\u001b[39m\u001b[38;5;241m.\u001b[39m_setitem_with_indexer_2d_value(indexer, value)\n\u001b[1;32m   1988\u001b[0m \u001b[38;5;28;01melif\u001b[39;00m \u001b[38;5;28mlen\u001b[39m(ilocs) \u001b[38;5;241m==\u001b[39m \u001b[38;5;241m1\u001b[39m \u001b[38;5;129;01mand\u001b[39;00m lplane_indexer \u001b[38;5;241m==\u001b[39m \u001b[38;5;28mlen\u001b[39m(value) \u001b[38;5;129;01mand\u001b[39;00m \u001b[38;5;129;01mnot\u001b[39;00m is_scalar(pi):\n\u001b[1;32m   1989\u001b[0m     \u001b[38;5;66;03m# We are setting multiple rows in a single column.\u001b[39;00m\n",
      "File \u001b[0;32m/Library/Frameworks/Python.framework/Versions/3.10/lib/python3.10/site-packages/numpy/core/fromnumeric.py:3211\u001b[0m, in \u001b[0;36mndim\u001b[0;34m(a)\u001b[0m\n\u001b[1;32m   3209\u001b[0m     \u001b[38;5;28;01mreturn\u001b[39;00m a\u001b[38;5;241m.\u001b[39mndim\n\u001b[1;32m   3210\u001b[0m \u001b[38;5;28;01mexcept\u001b[39;00m \u001b[38;5;167;01mAttributeError\u001b[39;00m:\n\u001b[0;32m-> 3211\u001b[0m     \u001b[38;5;28;01mreturn\u001b[39;00m \u001b[43masarray\u001b[49m\u001b[43m(\u001b[49m\u001b[43ma\u001b[49m\u001b[43m)\u001b[49m\u001b[38;5;241m.\u001b[39mndim\n",
      "\u001b[0;31mValueError\u001b[0m: setting an array element with a sequence. The requested array has an inhomogeneous shape after 1 dimensions. The detected shape was (3,) + inhomogeneous part."
     ]
    }
   ],
   "source": [
    "# Special Case Women's Basketball scraping (different year format)\n",
    "data = pd.read_csv(\"data.csv\")\n",
    "data = data[data.Sport != 'womens-basketball']\n",
    "\n",
    "yearsList = ['2022-23', '2023-24', '2024-25']\n",
    "base_url = \"https://ucsbgauchos.com/sports/womens-basketball/schedule/\"\n",
    "#data = pd.DataFrame(columns=['Sport','Year','Game Data'])\n",
    "\n",
    "for year in yearsList:\n",
    "    url = base_url + str(year)\n",
    "    print(url)\n",
    "    rowData = ['womens-basketball', year]\n",
    "    \n",
    "    try:\n",
    "        # Initialize WebDriver (Make sure you have ChromeDriver installed)\n",
    "        driver = webdriver.Chrome()\n",
    "        driver.get(url)\n",
    "        time.sleep(2)\n",
    "        \n",
    "        # Find all buttons with the class \"sidearm-schedule-game-toggle\"\n",
    "        buttons = driver.find_elements(By.CLASS_NAME, \"sidearm-schedule-game-toggle\")\n",
    "        \n",
    "        # Click each button one by one and extract the content\n",
    "        for btn in buttons:\n",
    "            btn.click()\n",
    "            time.sleep(1)  # Adjust if needed to ensure content loads\n",
    "        \n",
    "        # Get the updated page source after all clicks\n",
    "        html = driver.page_source\n",
    "        soup = BeautifulSoup(html, \"html.parser\")\n",
    "        \n",
    "        # Find all dropdown contents\n",
    "        dropdowns = soup.find_all(\"div\", class_=\"sidearm-schedule-game-extra\")\n",
    "\n",
    "        gameData = []\n",
    "        # Print extracted content for each game\n",
    "        for i, dropdown in enumerate(dropdowns, start=1):\n",
    "            gameData.append(dropdown.text.strip())\n",
    "        \n",
    "        # Close the browser\n",
    "        driver.quit()\n",
    "        rowData.append(gameData)\n",
    "        data.loc[len(data)] = rowData\n",
    "\n",
    "    except requests.exceptions.RequestException as e:\n",
    "        print(f\"Error fetching data for {url}: {e}\")"
   ]
  },
  {
   "cell_type": "code",
   "execution_count": 8,
   "id": "ebcdf444-536c-460b-b202-2dc4772a08fb",
   "metadata": {},
   "outputs": [
    {
     "data": {
      "text/html": [
       "<div>\n",
       "<style scoped>\n",
       "    .dataframe tbody tr th:only-of-type {\n",
       "        vertical-align: middle;\n",
       "    }\n",
       "\n",
       "    .dataframe tbody tr th {\n",
       "        vertical-align: top;\n",
       "    }\n",
       "\n",
       "    .dataframe thead th {\n",
       "        text-align: right;\n",
       "    }\n",
       "</style>\n",
       "<table border=\"1\" class=\"dataframe\">\n",
       "  <thead>\n",
       "    <tr style=\"text-align: right;\">\n",
       "      <th></th>\n",
       "      <th>Sport</th>\n",
       "      <th>Year</th>\n",
       "      <th>Game Data</th>\n",
       "    </tr>\n",
       "  </thead>\n",
       "  <tbody>\n",
       "    <tr>\n",
       "      <th>0</th>\n",
       "      <td>womens-basketball</td>\n",
       "      <td>2022-23</td>\n",
       "      <td>[Details\\n\\nUCSB Tops Life Pacific 98-60 in Ex...</td>\n",
       "    </tr>\n",
       "    <tr>\n",
       "      <th>1</th>\n",
       "      <td>womens-basketball</td>\n",
       "      <td>2023-24</td>\n",
       "      <td>[Score By Period\\n\\n\\nTeam\\n\\n1\\n2\\n3\\n4\\n\\nF\\...</td>\n",
       "    </tr>\n",
       "    <tr>\n",
       "      <th>2</th>\n",
       "      <td>womens-basketball</td>\n",
       "      <td>2024-25</td>\n",
       "      <td>[Score By Period\\n\\n\\nTeam\\n\\n1\\n2\\n3\\n4\\n\\nF\\...</td>\n",
       "    </tr>\n",
       "  </tbody>\n",
       "</table>\n",
       "</div>"
      ],
      "text/plain": [
       "               Sport     Year  \\\n",
       "0  womens-basketball  2022-23   \n",
       "1  womens-basketball  2023-24   \n",
       "2  womens-basketball  2024-25   \n",
       "\n",
       "                                           Game Data  \n",
       "0  [Details\\n\\nUCSB Tops Life Pacific 98-60 in Ex...  \n",
       "1  [Score By Period\\n\\n\\nTeam\\n\\n1\\n2\\n3\\n4\\n\\nF\\...  \n",
       "2  [Score By Period\\n\\n\\nTeam\\n\\n1\\n2\\n3\\n4\\n\\nF\\...  "
      ]
     },
     "execution_count": 8,
     "metadata": {},
     "output_type": "execute_result"
    }
   ],
   "source": [
    "data"
   ]
  },
  {
   "cell_type": "code",
   "execution_count": 28,
   "id": "58fdd8d6-c90c-43ce-80be-50a1f8624bc4",
   "metadata": {},
   "outputs": [],
   "source": [
    "data.to_csv(\"data.csv\", index=False)"
   ]
  }
 ],
 "metadata": {
  "kernelspec": {
   "display_name": "Python 3 (ipykernel)",
   "language": "python",
   "name": "python3"
  },
  "language_info": {
   "codemirror_mode": {
    "name": "ipython",
    "version": 3
   },
   "file_extension": ".py",
   "mimetype": "text/x-python",
   "name": "python",
   "nbconvert_exporter": "python",
   "pygments_lexer": "ipython3",
   "version": "3.10.11"
  }
 },
 "nbformat": 4,
 "nbformat_minor": 5
}
